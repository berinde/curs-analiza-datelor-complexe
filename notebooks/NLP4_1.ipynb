{
 "cells": [
  {
   "cell_type": "markdown",
   "metadata": {
    "id": "h_mynntn7Qtz"
   },
   "source": [
    "# Importing Libraries"
   ]
  },
  {
   "cell_type": "code",
   "execution_count": null,
   "metadata": {
    "id": "XpatzkKo7OvP",
    "tags": []
   },
   "outputs": [],
   "source": [
    "import pandas as pd\n",
    "import numpy as np\n",
    "\n",
    "# Impartirea setului de date in train & test\n",
    "from sklearn.model_selection import train_test_split\n",
    "\n",
    "# Pentru alg. de clasificare fol. Log. Reg.\n",
    "from sklearn.linear_model import LogisticRegression\n",
    "\n",
    "# Evaluarea Performantei\n",
    "from sklearn.metrics import classification_report\n",
    "\n",
    "# Tokenization\n",
    "import nltk\n",
    "nltk.download('punkt')\n",
    "from nltk.tokenize import word_tokenize\n",
    "\n",
    "# Embeddings\n",
    "from gensim.models import FastText, Word2Vec\n",
    "\n",
    "# Salvarea modelului\n",
    "import pickle"
   ]
  },
  {
   "cell_type": "markdown",
   "metadata": {
    "id": "B1GpdRKx8SGn"
   },
   "source": [
    "# Citirea datelor"
   ]
  },
  {
   "cell_type": "code",
   "execution_count": null,
   "metadata": {
    "tags": []
   },
   "outputs": [],
   "source": [
    "url = 'https://github.com/berinde/curs-analiza-datelor-complexe/blob/main/data/input/3.input_data_prepped_bow.csv?raw=True'\n",
    "reviews = pd.read_csv(url)\n",
    "reviews.head(2)"
   ]
  },
  {
   "cell_type": "code",
   "execution_count": null,
   "metadata": {
    "id": "D7Z1L-ZK8kn0"
   },
   "outputs": [],
   "source": [
    "reviews.shape"
   ]
  },
  {
   "cell_type": "code",
   "execution_count": null,
   "metadata": {
    "id": "ytXuisBP9WSv"
   },
   "outputs": [],
   "source": [
    "url = 'https://github.com/berinde/curs-analiza-datelor-complexe/blob/main/data/input/dtm_1_bow.parquet?raw=True'\n",
    "dtm_bow = pd.read_parquet(url)"
   ]
  },
  {
   "cell_type": "code",
   "execution_count": null,
   "metadata": {
    "id": "KmpS2TjR9xtr"
   },
   "outputs": [],
   "source": [
    "dtm_bow.shape"
   ]
  },
  {
   "cell_type": "code",
   "execution_count": null,
   "metadata": {
    "id": "whtM_ZYf98Mv"
   },
   "outputs": [],
   "source": [
    "dtm_bow.head(2)"
   ]
  },
  {
   "cell_type": "code",
   "execution_count": null,
   "metadata": {
    "id": "rJs6LkEG9-on"
   },
   "outputs": [],
   "source": [
    "url = 'https://github.com/berinde/curs-analiza-datelor-complexe/blob/main/data/input/dtm_2_tfidf.parquet?raw=True'\n",
    "dtm_tf_idf = pd.read_parquet(url)\n",
    "dtm_tf_idf.head(2)"
   ]
  },
  {
   "cell_type": "markdown",
   "metadata": {
    "id": "6TqnbG3i-9-8"
   },
   "source": [
    "# Clasificare folosing reprezentarea BOW"
   ]
  },
  {
   "cell_type": "markdown",
   "metadata": {
    "id": "LhOorYJU_GOf"
   },
   "source": [
    "## BOW - impartirea setului de date in set de training & test"
   ]
  },
  {
   "cell_type": "code",
   "execution_count": null,
   "metadata": {
    "id": "AotrJlkT-RTl"
   },
   "outputs": [],
   "source": [
    "X_train_bow, X_test_bow, y_train_bow, y_test_bow = train_test_split(\n",
    "    dtm_bow,\n",
    "    reviews['positive'],\n",
    "    train_size=0.8,\n",
    "    random_state=42\n",
    "    )"
   ]
  },
  {
   "cell_type": "code",
   "execution_count": null,
   "metadata": {
    "id": "JLoHvrMsBC0b"
   },
   "outputs": [],
   "source": [
    "print(len(X_train_bow), len(X_test_bow), len(y_train_bow), len(y_test_bow))"
   ]
  },
  {
   "cell_type": "code",
   "execution_count": null,
   "metadata": {
    "id": "wiPHmnhHBPSW"
   },
   "outputs": [],
   "source": [
    "y_test_bow"
   ]
  },
  {
   "cell_type": "code",
   "execution_count": null,
   "metadata": {
    "id": "XvImLvrbBWac"
   },
   "outputs": [],
   "source": [
    "y_train_bow.mean()"
   ]
  },
  {
   "cell_type": "code",
   "execution_count": null,
   "metadata": {
    "id": "d9EsXCwyBqW-"
   },
   "outputs": [],
   "source": [
    "y_test_bow.mean()"
   ]
  },
  {
   "cell_type": "markdown",
   "metadata": {
    "id": "XT32iu7OC74L"
   },
   "source": [
    "## BOW + Logistic Regression"
   ]
  },
  {
   "cell_type": "code",
   "execution_count": null,
   "metadata": {
    "id": "LdWd05H0B0_8"
   },
   "outputs": [],
   "source": [
    "m1_bow = LogisticRegression()\n",
    "m1_bow.fit(X_train_bow, y_train_bow)"
   ]
  },
  {
   "cell_type": "code",
   "execution_count": null,
   "metadata": {
    "id": "lI8rJ3z0DcpW"
   },
   "outputs": [],
   "source": [
    "# Generam predictiile pe setul de test\n",
    "ypred1_bow = m1_bow.predict(X_test_bow)\n",
    "ypred1_bow"
   ]
  },
  {
   "cell_type": "code",
   "execution_count": null,
   "metadata": {
    "id": "PO6hvEGsEI-k"
   },
   "outputs": [],
   "source": [
    "len(ypred1_bow)"
   ]
  },
  {
   "cell_type": "code",
   "execution_count": null,
   "metadata": {
    "id": "6uV6jaHqEM3D"
   },
   "outputs": [],
   "source": [
    "print('Acuratetea pe setul de training:', m1_bow.score(X_train_bow, y_train_bow))\n",
    "print('Acuratetea pe setul de test:', m1_bow.score(X_test_bow, y_test_bow))\n",
    "\n",
    "print('Classification Report pe setul de test\\n',\n",
    "      classification_report(y_test_bow, ypred1_bow)\n",
    "      )"
   ]
  },
  {
   "cell_type": "code",
   "execution_count": null,
   "metadata": {
    "id": "9J4xIwMgOTcP"
   },
   "outputs": [],
   "source": [
    "pickle.dump(m1_bow, open('m1_bow.pkl', 'wb'))"
   ]
  },
  {
   "cell_type": "markdown",
   "metadata": {
    "id": "Yq3z6-w7JK-O"
   },
   "source": [
    "* P = positive <-> reviews['positive']==1\n",
    "* N = negative <-> reviews['positive']==0\n",
    "* TP = recenziile prezise ca pozitive, sunt pozitive\n",
    "* TN = recenziile prezise ca negative, sunt negative\n",
    "* FP = recenziile prezise ca pozitive, sunt negative\n",
    "* FN = recenziile prezise ca negative, sunt pozitive\n",
    "* Precision = $\\frac{TP}{TP+FP}$, din toate cazurile pe care le-am prezis ca pozitive, cate sunt de fapt?\n",
    "* Recall = $\\frac{TP}{TP+FN}$, din toate cazurile care sunt pozitive, cate le-am prezis corect?\n",
    "\n",
    "\n"
   ]
  },
  {
   "cell_type": "markdown",
   "metadata": {
    "id": "6GhHsEaaK2nT"
   },
   "source": [
    "# Clasificare folosind TF-IDF"
   ]
  },
  {
   "cell_type": "markdown",
   "metadata": {
    "id": "KgbDsw8jK8k_"
   },
   "source": [
    "## TF-IDF - impartirea setului de date in set de training & test"
   ]
  },
  {
   "cell_type": "code",
   "execution_count": null,
   "metadata": {
    "id": "MdwrujxxEpkt"
   },
   "outputs": [],
   "source": [
    "X_train_tfidf, X_test_tfidf, y_train_tfidf, y_test_tfidf = train_test_split(\n",
    "    dtm_tf_idf,\n",
    "    reviews['positive'],\n",
    "    train_size=0.8,\n",
    "    random_state=42\n",
    ")"
   ]
  },
  {
   "cell_type": "code",
   "execution_count": null,
   "metadata": {
    "id": "l77qL3bmLmBF"
   },
   "outputs": [],
   "source": [
    "print(len(X_train_tfidf), len(X_test_tfidf),\n",
    "      len(y_train_tfidf), len(y_test_tfidf))"
   ]
  },
  {
   "cell_type": "code",
   "execution_count": null,
   "metadata": {
    "id": "Wvcfx09ZLxkk"
   },
   "outputs": [],
   "source": [
    "X_train_tfidf.head(2)"
   ]
  },
  {
   "cell_type": "code",
   "execution_count": null,
   "metadata": {
    "id": "b6mxmlSDL5Ls"
   },
   "outputs": [],
   "source": [
    "y_train_tfidf"
   ]
  },
  {
   "cell_type": "markdown",
   "metadata": {
    "id": "xM-9xizQMaX4"
   },
   "source": [
    "## TF-IDF + Logistic Regression"
   ]
  },
  {
   "cell_type": "code",
   "execution_count": null,
   "metadata": {
    "id": "LHMNLja8MDFG"
   },
   "outputs": [],
   "source": [
    "m2_tfidf = LogisticRegression()\n",
    "m2_tfidf.fit(X_train_tfidf, y_train_tfidf)"
   ]
  },
  {
   "cell_type": "code",
   "execution_count": null,
   "metadata": {
    "id": "McOpR1EeMrIo"
   },
   "outputs": [],
   "source": [
    "# Predictiile pe setul de test\n",
    "ypred2_tfidf = m2_tfidf.predict(X_test_tfidf)\n",
    "ypred2_tfidf"
   ]
  },
  {
   "cell_type": "code",
   "execution_count": null,
   "metadata": {
    "id": "RW56NZ0BM4mp"
   },
   "outputs": [],
   "source": [
    "len(ypred2_tfidf)"
   ]
  },
  {
   "cell_type": "code",
   "execution_count": null,
   "metadata": {
    "id": "JMFIAv3yM9g7"
   },
   "outputs": [],
   "source": [
    "print('Acuratetea pe setul de training:', m2_tfidf.score(X_train_tfidf,\n",
    "                                                         y_train_tfidf))\n",
    "print('Acuratetea pe setul de test:', m2_tfidf.score(X_test_tfidf,\n",
    "                                                     y_test_tfidf))\n",
    "print('Classification Report pe setul de test\\n',\n",
    "      classification_report(y_test_tfidf, ypred2_tfidf)\n",
    "      )"
   ]
  },
  {
   "cell_type": "code",
   "execution_count": null,
   "metadata": {
    "id": "tdw3hWHDNTfV"
   },
   "outputs": [],
   "source": [
    "pickle.dump(m2_tfidf, open('m2_tfidf.pkl', 'wb'))"
   ]
  },
  {
   "cell_type": "markdown",
   "metadata": {
    "id": "k5w4emFYOdmN"
   },
   "source": [
    "# Clasificare folosing FastText"
   ]
  },
  {
   "cell_type": "markdown",
   "metadata": {
    "id": "1sEoWrXmOdrV"
   },
   "source": [
    "## Reprezentarea FastText"
   ]
  },
  {
   "cell_type": "code",
   "execution_count": null,
   "metadata": {
    "id": "p0ge_qtxOPLU"
   },
   "outputs": [],
   "source": [
    "# !wget -O trained_ft.pkl https://github.com/berinde/curs-analiza-datelor-complexe/blob/main/data/input/trained_ft.pkl?raw=true\n",
    "# repr_fasttext = pickle.load(open('trained_ft.pkl', 'rb'))\n",
    "# repr_fasttext.wv['restaurant']"
   ]
  },
  {
   "cell_type": "code",
   "execution_count": null,
   "metadata": {},
   "outputs": [],
   "source": [
    "corpus = reviews['text_prep_lim'].astype(str)\n",
    "# Aplicam word tokenize\n",
    "corpus = corpus.apply(word_tokenize).to_list()"
   ]
  },
  {
   "cell_type": "code",
   "execution_count": null,
   "metadata": {},
   "outputs": [],
   "source": [
    "ft_model = FastText(min_count=3, vector_size=60, window=10)\n",
    "\n",
    "# Construim vocabularul din corpus\n",
    "ft_model.build_vocab(corpus)\n",
    "\n",
    "ft_model.train(corpus, \n",
    "               total_examples=len(corpus),\n",
    "               epochs=5)"
   ]
  },
  {
   "cell_type": "markdown",
   "metadata": {
    "id": "c9jjz13_PfcV"
   },
   "source": [
    "Reprezentarile FastText sunt pt fiecare cuvant. Pentru a crea o reprezentare vectoriala pentru intreaga recenzie, putem calcula media reprezentarilor vectoriale ale cuv. care alcatuiesc recenzia."
   ]
  },
  {
   "cell_type": "code",
   "execution_count": null,
   "metadata": {
    "id": "iJaaOv6kP9eV"
   },
   "outputs": [],
   "source": [
    "corpus[0:2]"
   ]
  },
  {
   "cell_type": "code",
   "execution_count": null,
   "metadata": {
    "id": "IzQrdCqjQLek"
   },
   "outputs": [],
   "source": [
    "# Lista de cuvinte din prima recenzie\n",
    "doc1 = corpus[0]\n",
    "doc1"
   ]
  },
  {
   "cell_type": "code",
   "execution_count": null,
   "metadata": {
    "id": "JUDWKhrZQu6b"
   },
   "outputs": [],
   "source": [
    "# Reprezentarile vectoriale pentru fiecare cuvant din doc1\n",
    "ft_model.wv[doc1]"
   ]
  },
  {
   "cell_type": "code",
   "execution_count": null,
   "metadata": {
    "id": "pO-m8QyuQezY"
   },
   "outputs": [],
   "source": [
    "# Media pe fiecare din cele 60 dimensiuni\n",
    "repr_doc1 = np.mean(ft_model.wv[doc1], axis=0)\n",
    "repr_doc1"
   ]
  },
  {
   "cell_type": "code",
   "execution_count": null,
   "metadata": {
    "id": "8a0vRjxtRAgH"
   },
   "outputs": [],
   "source": [
    "len(repr_doc1)"
   ]
  },
  {
   "cell_type": "code",
   "execution_count": null,
   "metadata": {
    "id": "_WsmZ8A1RYtB"
   },
   "outputs": [],
   "source": [
    "for doc in corpus:\n",
    "    medie = np.mean(ft_model.wv[doc], axis=0)\n",
    "    \n",
    "    if doc == corpus[0]:\n",
    "      repr_recenzie = medie\n",
    "    else:\n",
    "      repr_recenzie = np.vstack((repr_recenzie, medie))"
   ]
  },
  {
   "cell_type": "code",
   "execution_count": null,
   "metadata": {
    "id": "4zyG3qYiSnhY"
   },
   "outputs": [],
   "source": [
    "repr_recenzie.shape"
   ]
  },
  {
   "cell_type": "markdown",
   "metadata": {
    "id": "TYiE1m4uSyCP"
   },
   "source": [
    "repr_recenzie contine reprezentarile vectoriale agregate din cuvinte pentru fiecare recenzie in parte"
   ]
  },
  {
   "cell_type": "code",
   "execution_count": null,
   "metadata": {
    "id": "VdQ6C2qYSq9P"
   },
   "outputs": [],
   "source": [
    "repr_recenzie[0:2]"
   ]
  },
  {
   "cell_type": "markdown",
   "metadata": {
    "id": "iD1PZg1nTLjQ"
   },
   "source": [
    "## FastText - impartirea setului de date in set de training & test"
   ]
  },
  {
   "cell_type": "code",
   "execution_count": null,
   "metadata": {
    "id": "hi3a2Q6CS7TC"
   },
   "outputs": [],
   "source": [
    "X_train_ft, X_test_ft, y_train_ft, y_test_ft = train_test_split(\n",
    "    repr_recenzie,\n",
    "    reviews['positive'],\n",
    "    train_size=0.8,\n",
    "    random_state=42)"
   ]
  },
  {
   "cell_type": "code",
   "execution_count": null,
   "metadata": {
    "id": "bk_70zRATmBd"
   },
   "outputs": [],
   "source": [
    "X_train_ft.shape"
   ]
  },
  {
   "cell_type": "code",
   "execution_count": null,
   "metadata": {
    "id": "V3MLh0i-TpWP"
   },
   "outputs": [],
   "source": [
    "X_test_ft.shape"
   ]
  },
  {
   "cell_type": "markdown",
   "metadata": {
    "id": "Teznzb6iTyFs"
   },
   "source": [
    "# FastText + Logistic Regression"
   ]
  },
  {
   "cell_type": "code",
   "execution_count": null,
   "metadata": {
    "id": "82ujsfBFTtxo"
   },
   "outputs": [],
   "source": [
    "m3_ft = LogisticRegression()\n",
    "m3_ft.fit(X_train_ft, y_train_ft)"
   ]
  },
  {
   "cell_type": "code",
   "execution_count": null,
   "metadata": {
    "id": "P_0w-OaPUA5i"
   },
   "outputs": [],
   "source": [
    "# Predictiile pe setul de test\n",
    "ypred3_ft = m3_ft.predict(X_test_ft)"
   ]
  },
  {
   "cell_type": "code",
   "execution_count": null,
   "metadata": {
    "id": "0MwrQ4Y0UM5i"
   },
   "outputs": [],
   "source": [
    "# Evaluarea Performantei\n",
    "\n",
    "print('Acuratetea pe setul de training',\n",
    "      m3_ft.score(X_train_ft, y_train_ft))\n",
    "print('Acuratetea pe setul de test',\n",
    "      m3_ft.score(X_test_ft, y_test_ft))\n",
    "print('Classification Report pe setul de test \\n',\n",
    "      classification_report(y_test_ft, ypred3_ft))"
   ]
  },
  {
   "cell_type": "code",
   "execution_count": null,
   "metadata": {
    "id": "JhWXF04YVAu3"
   },
   "outputs": [],
   "source": []
  }
 ],
 "metadata": {
  "colab": {
   "provenance": [],
   "toc_visible": true
  },
  "kernelspec": {
   "display_name": "nlp_py_310",
   "language": "python",
   "name": "python3"
  },
  "language_info": {
   "codemirror_mode": {
    "name": "ipython",
    "version": 3
   },
   "file_extension": ".py",
   "mimetype": "text/x-python",
   "name": "python",
   "nbconvert_exporter": "python",
   "pygments_lexer": "ipython3",
   "version": "3.10.16"
  }
 },
 "nbformat": 4,
 "nbformat_minor": 4
}
