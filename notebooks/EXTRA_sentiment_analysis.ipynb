{
 "cells": [
  {
   "cell_type": "markdown",
   "metadata": {
    "id": "EsTNOAIeCByq"
   },
   "source": [
    "# Importing Libraries"
   ]
  },
  {
   "cell_type": "code",
   "execution_count": null,
   "metadata": {
    "id": "iyXc3U9uCIYU"
   },
   "outputs": [],
   "source": [
    "!pip install ktrain"
   ]
  },
  {
   "cell_type": "code",
   "execution_count": null,
   "metadata": {
    "id": "-L8VczsZCIa3",
    "tags": []
   },
   "outputs": [],
   "source": [
    "import pandas as pd\n",
    "import numpy as np\n",
    "\n",
    "# Classification Report, Train Test Split\n",
    "from sklearn.metrics import classification_report\n",
    "from sklearn.model_selection import train_test_split\n",
    "\n",
    "# Lexicon\n",
    "import nltk\n",
    "from nltk.sentiment.vader import SentimentIntensityAnalyzer\n",
    "nltk.download('vader_lexicon')\n",
    "\n",
    "# TF-IDF + LR\n",
    "from gensim.parsing.preprocessing import preprocess_documents\n",
    "from sklearn.feature_extraction.text import TfidfVectorizer\n",
    "from sklearn.linear_model import LogisticRegression\n",
    "\n",
    "# BERT\n",
    "import ktrain\n",
    "from ktrain import text"
   ]
  },
  {
   "cell_type": "markdown",
   "metadata": {
    "id": "9yU5m-5kEHFP"
   },
   "source": [
    "# Citirea datelor"
   ]
  },
  {
   "cell_type": "code",
   "execution_count": null,
   "metadata": {
    "tags": []
   },
   "outputs": [],
   "source": [
    "url = 'https://github.com/berinde/curs-analiza-datelor-complexe/blob/main/data/input/1.input_data.csv?raw=True'\n",
    "reviews = pd.read_csv(url)\n",
    "print(reviews.shape)\n",
    "reviews.head(2)"
   ]
  },
  {
   "cell_type": "code",
   "execution_count": null,
   "metadata": {
    "id": "_i64t28oEV7J"
   },
   "outputs": [],
   "source": [
    "reviews['rating'].value_counts()"
   ]
  },
  {
   "cell_type": "code",
   "execution_count": null,
   "metadata": {
    "id": "Ogk3SS-mEjT1"
   },
   "outputs": [],
   "source": [
    "# Excludem rating-urile de 3\n",
    "reviews = reviews[reviews['rating']!=3].reset_index(drop=True)\n",
    "print(reviews.shape)\n",
    "reviews.head(2)"
   ]
  },
  {
   "cell_type": "code",
   "execution_count": null,
   "metadata": {
    "id": "DIPIbs3TFf5M"
   },
   "outputs": [],
   "source": [
    "reviews['rating'].value_counts()"
   ]
  },
  {
   "cell_type": "code",
   "execution_count": null,
   "metadata": {
    "id": "IEQlUzKwFpKc"
   },
   "outputs": [],
   "source": [
    "# Adaugam coloana 'positive'\n",
    "reviews['positive'] = np.where(reviews['rating']<3, 0, 1)\n",
    "reviews['positive'].value_counts()"
   ]
  },
  {
   "cell_type": "markdown",
   "metadata": {
    "id": "oBEKkNP8GbVu"
   },
   "source": [
    "# Sentiment Analysis using VADER Lexicon"
   ]
  },
  {
   "cell_type": "code",
   "execution_count": null,
   "metadata": {
    "id": "IL0Ft9q9GMvg"
   },
   "outputs": [],
   "source": [
    "reviews['vader_score'] = reviews['text'].apply(lambda x: SentimentIntensityAnalyzer().polarity_scores(x)['compound'])\n",
    "reviews.head(2)"
   ]
  },
  {
   "cell_type": "code",
   "execution_count": null,
   "metadata": {
    "id": "FaWNiNACG0oH"
   },
   "outputs": [],
   "source": [
    "reviews['vader_score'].describe()"
   ]
  },
  {
   "cell_type": "code",
   "execution_count": null,
   "metadata": {
    "id": "iQOF-jGmHYOM"
   },
   "outputs": [],
   "source": [
    "reviews['vader_class'] = np.where(reviews['vader_score']>=0, 1, 0)\n",
    "reviews.head(2)"
   ]
  },
  {
   "cell_type": "code",
   "execution_count": null,
   "metadata": {
    "id": "_76N4aTEILl9"
   },
   "outputs": [],
   "source": [
    "print(classification_report(reviews['positive'], \n",
    "                            reviews['vader_class']))"
   ]
  },
  {
   "cell_type": "markdown",
   "metadata": {
    "id": "WzDn0A9cMdEr"
   },
   "source": [
    "# Sentiment Analysis using TF-IDF + Logistic Regression\n",
    "https://radimrehurek.com/gensim/parsing/preprocessing.html#gensim.parsing.preprocessing.stem_text\n"
   ]
  },
  {
   "cell_type": "code",
   "execution_count": null,
   "metadata": {
    "id": "oHBVN5sPMlJ2"
   },
   "outputs": [],
   "source": [
    "corpus = preprocess_documents(reviews['text'])"
   ]
  },
  {
   "cell_type": "code",
   "execution_count": null,
   "metadata": {
    "id": "2SsO3MldNVjk"
   },
   "outputs": [],
   "source": [
    "corpus[0:2]"
   ]
  },
  {
   "cell_type": "code",
   "execution_count": null,
   "metadata": {
    "id": "qU68tIH3NIGd"
   },
   "outputs": [],
   "source": [
    "len(corpus)"
   ]
  },
  {
   "cell_type": "code",
   "execution_count": null,
   "metadata": {
    "id": "YILdZjG5NIIa"
   },
   "outputs": [],
   "source": [
    "corpus_final = [\" \".join(x) for x in corpus]\n",
    "corpus_final[0:2]"
   ]
  },
  {
   "cell_type": "code",
   "execution_count": null,
   "metadata": {
    "id": "10tp-KpiOYy4"
   },
   "outputs": [],
   "source": [
    "reviews['text_prep'] = corpus_final\n",
    "reviews.head(2)"
   ]
  },
  {
   "cell_type": "code",
   "execution_count": null,
   "metadata": {
    "id": "uYJFbOnyOY8v"
   },
   "outputs": [],
   "source": [
    "# Consideram doar top 6000 de cuvinete pentru reprezentarea TFIDF\n",
    "# (top 6000 dupa frecventa aparitiilor lor in corpus)\n",
    "vec = TfidfVectorizer(max_features=6000)\n",
    "tf_idf = vec.fit_transform(reviews['text_prep'])\n",
    "# Cele top 6000 de cuvinte\n",
    "cuvinte = vec.get_feature_names_out()"
   ]
  },
  {
   "cell_type": "code",
   "execution_count": null,
   "metadata": {
    "id": "V-bn1Of0OZBU"
   },
   "outputs": [],
   "source": [
    "# Transformam in dataframe\n",
    "dtm_tf_idf = pd.DataFrame(tf_idf.toarray(),\n",
    "                          columns=cuvinte)\n",
    "print(dtm_tf_idf.shape)\n",
    "dtm_tf_idf.head(2)"
   ]
  },
  {
   "cell_type": "code",
   "execution_count": null,
   "metadata": {
    "id": "pHtBmBqtOZDr"
   },
   "outputs": [],
   "source": [
    "print('Valoarea minima din reprezentarea TF IDF:', dtm_tf_idf.min().min())\n",
    "print('Valoarea maxima din reprezentarea TF IDF:', dtm_tf_idf.max().max())"
   ]
  },
  {
   "cell_type": "code",
   "execution_count": null,
   "metadata": {
    "id": "8kphxvs4OZIm"
   },
   "outputs": [],
   "source": [
    "X_train_tfidf, X_test_tfidf, y_train_tfidf, y_test_tfidf = train_test_split(\n",
    "     dtm_tf_idf,\n",
    "     reviews['positive'],\n",
    "     train_size=0.8,\n",
    "     random_state=42\n",
    ")\n",
    "print(X_train_tfidf.shape, X_test_tfidf.shape)"
   ]
  },
  {
   "cell_type": "code",
   "execution_count": null,
   "metadata": {
    "id": "3g9P95_RSJS5"
   },
   "outputs": [],
   "source": [
    "X_train_tfidf.head(2)"
   ]
  },
  {
   "cell_type": "code",
   "execution_count": null,
   "metadata": {
    "id": "Xk0bDYa_SQn3"
   },
   "outputs": [],
   "source": [
    "model_lr = LogisticRegression()\n",
    "model_lr.fit(X_train_tfidf, y_train_tfidf)"
   ]
  },
  {
   "cell_type": "code",
   "execution_count": null,
   "metadata": {
    "id": "SEdg1H-cSQqN"
   },
   "outputs": [],
   "source": [
    "# Predictiile pe setul de test\n",
    "ypred_test_tfidf = model_lr.predict(X_test_tfidf)"
   ]
  },
  {
   "cell_type": "code",
   "execution_count": null,
   "metadata": {
    "id": "jrHovWPQSQsl"
   },
   "outputs": [],
   "source": [
    "print('Acuratetea pe setul de training',\n",
    "      model_lr.score(X_train_tfidf, y_train_tfidf))\n",
    "print('Performanta Modelului pe setul de test:\\n',\n",
    "      classification_report(y_test_tfidf, ypred_test_tfidf))"
   ]
  },
  {
   "cell_type": "markdown",
   "metadata": {
    "id": "rwV9DSqrMdLe"
   },
   "source": [
    "# Sentiment Analysis using BERT"
   ]
  },
  {
   "cell_type": "code",
   "execution_count": null,
   "metadata": {
    "id": "WQX86yWQIan8"
   },
   "outputs": [],
   "source": [
    "data_train, data_test, _, _ = train_test_split(\n",
    "    reviews[['text', 'positive']],\n",
    "    reviews['positive'],\n",
    "    train_size=0.8,\n",
    "    random_state=42)\n",
    "print(data_train.shape)\n",
    "print(data_test.shape)"
   ]
  },
  {
   "cell_type": "code",
   "execution_count": null,
   "metadata": {
    "id": "xtkcti8bVWak"
   },
   "outputs": [],
   "source": [
    "(X_train, y_train), (X_test, y_test), preprocessor = text.texts_from_df(\n",
    "    train_df=data_train,\n",
    "    val_df=data_test,\n",
    "    text_column='text',\n",
    "    label_columns='positive',\n",
    "    maxlen=128, #nr. de cuvinte considerat pentru fiecare recenzie\n",
    "    preprocess_mode='bert'\n",
    "    )"
   ]
  },
  {
   "cell_type": "code",
   "execution_count": null,
   "metadata": {
    "id": "3HQQmOg8V9D8"
   },
   "outputs": [],
   "source": [
    "model_bert = text.text_classifier(name='bert',\n",
    "                                  train_data=(X_train, y_train),\n",
    "                                  preproc=preprocessor)"
   ]
  },
  {
   "cell_type": "code",
   "execution_count": null,
   "metadata": {
    "id": "Rzy6dSJdW_JM"
   },
   "outputs": [],
   "source": [
    "learner = ktrain.get_learner(model=model_bert,\n",
    "                             train_data=(X_train, y_train),\n",
    "                             val_data=(X_test, y_test))"
   ]
  },
  {
   "cell_type": "code",
   "execution_count": null,
   "metadata": {
    "id": "hk4tRNthXeqk"
   },
   "outputs": [],
   "source": [
    "learner.fit_onecycle(lr=3e-5, epochs=2)"
   ]
  },
  {
   "cell_type": "code",
   "execution_count": null,
   "metadata": {
    "id": "5cCWnknWX4Ms"
   },
   "outputs": [],
   "source": [
    "learner.validate()"
   ]
  },
  {
   "cell_type": "code",
   "execution_count": null,
   "metadata": {
    "id": "BDZj557lawiS"
   },
   "outputs": [],
   "source": []
  }
 ],
 "metadata": {
  "accelerator": "GPU",
  "colab": {
   "provenance": [],
   "toc_visible": true
  },
  "gpuClass": "standard",
  "kernelspec": {
   "display_name": "nlp_py310_xgb",
   "language": "python",
   "name": "nlp_py310_xgb"
  },
  "language_info": {
   "codemirror_mode": {
    "name": "ipython",
    "version": 3
   },
   "file_extension": ".py",
   "mimetype": "text/x-python",
   "name": "python",
   "nbconvert_exporter": "python",
   "pygments_lexer": "ipython3",
   "version": "3.10.13"
  }
 },
 "nbformat": 4,
 "nbformat_minor": 4
}
