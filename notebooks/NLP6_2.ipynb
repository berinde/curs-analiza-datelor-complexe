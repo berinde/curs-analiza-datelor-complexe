{
 "cells": [
  {
   "cell_type": "markdown",
   "metadata": {
    "id": "KQRrOVy6w-rr"
   },
   "source": [
    "# Importing Libraries"
   ]
  },
  {
   "cell_type": "code",
   "execution_count": null,
   "metadata": {
    "id": "MdW5xEdxwxB9"
   },
   "outputs": [],
   "source": [
    "!pip install ktrain"
   ]
  },
  {
   "cell_type": "code",
   "execution_count": null,
   "metadata": {
    "id": "iR3rgQlD0IAv",
    "tags": []
   },
   "outputs": [],
   "source": [
    "import pandas as pd\n",
    "import numpy as np\n",
    "\n",
    "# Impartirea setului de date\n",
    "from sklearn.model_selection import train_test_split\n",
    "\n",
    "import ktrain\n",
    "from ktrain import text"
   ]
  },
  {
   "cell_type": "markdown",
   "metadata": {
    "id": "ybRTeCPD0pug"
   },
   "source": [
    "# Reading Dataset"
   ]
  },
  {
   "cell_type": "code",
   "execution_count": null,
   "metadata": {
    "tags": []
   },
   "outputs": [],
   "source": [
    "url = 'https://github.com/berinde/curs-analiza-datelor-complexe/blob/main/data/input/3.input_data_prepped_bow.csv?raw=True'\n",
    "reviews = pd.read_csv(url)\n",
    "reviews.head(2)"
   ]
  },
  {
   "cell_type": "markdown",
   "metadata": {
    "id": "i63HKEmZ08C9"
   },
   "source": [
    "# Train Test Split"
   ]
  },
  {
   "cell_type": "code",
   "execution_count": null,
   "metadata": {
    "id": "nrMAsKRA0xdz"
   },
   "outputs": [],
   "source": [
    "data_train, data_test, _, _ = train_test_split(\n",
    "    reviews[['text', 'positive']],\n",
    "    reviews['positive'],\n",
    "    train_size=0.8,\n",
    "    random_state=42)"
   ]
  },
  {
   "cell_type": "code",
   "execution_count": null,
   "metadata": {
    "id": "27zqtARZ2VA0"
   },
   "outputs": [],
   "source": [
    "print(data_train.shape, data_test.shape)"
   ]
  },
  {
   "cell_type": "code",
   "execution_count": null,
   "metadata": {
    "id": "ZHOhhgMo2YZy"
   },
   "outputs": [],
   "source": [
    "data_train.head(2)"
   ]
  },
  {
   "cell_type": "markdown",
   "metadata": {
    "id": "c8VIQxfO2_mf"
   },
   "source": [
    "# Pre-procesarea datelor cu ktrain\n",
    "https://amaiya.github.io/ktrain/text/index.html"
   ]
  },
  {
   "cell_type": "code",
   "execution_count": null,
   "metadata": {
    "id": "F0SFQxbd2end"
   },
   "outputs": [],
   "source": [
    "(X_train, y_train), (X_test, y_test), preprocesor = text.texts_from_df(\n",
    "    train_df=data_train,\n",
    "    val_df=data_test,\n",
    "    text_column='text',\n",
    "    label_columns='positive',\n",
    "    maxlen=128, #numarul maxim de cuvinte considerate dintr-o recenzie\n",
    "    preprocess_mode='bert')"
   ]
  },
  {
   "cell_type": "code",
   "execution_count": null,
   "metadata": {
    "id": "1NK-MXLM5BO9"
   },
   "outputs": [],
   "source": [
    "X_train"
   ]
  },
  {
   "cell_type": "code",
   "execution_count": null,
   "metadata": {
    "id": "7DWNud965iyW"
   },
   "outputs": [],
   "source": [
    "data_train['text'].iloc[0]"
   ]
  },
  {
   "cell_type": "code",
   "execution_count": null,
   "metadata": {
    "id": "gJk5xUlP6mJf"
   },
   "outputs": [],
   "source": [
    "print('Input IDs pentru a doua recenzie', X_train[0][1])"
   ]
  },
  {
   "cell_type": "code",
   "execution_count": null,
   "metadata": {
    "id": "gXqij9dF7VNV"
   },
   "outputs": [],
   "source": [
    "print('Input IDs shape:', X_train[0].shape)"
   ]
  },
  {
   "cell_type": "markdown",
   "metadata": {
    "id": "Mz-3T7Ug8KnK"
   },
   "source": [
    "# Model Building"
   ]
  },
  {
   "cell_type": "code",
   "execution_count": null,
   "metadata": {
    "id": "fFPlZZHX8DHl"
   },
   "outputs": [],
   "source": [
    "bert = text.text_classifier(name='bert',\n",
    "                            train_data=(X_train, y_train),\n",
    "                            preproc=preprocesor)"
   ]
  },
  {
   "cell_type": "markdown",
   "metadata": {
    "id": "r67Y_pm79IRk"
   },
   "source": [
    "Learning Rate = pasul de invatare"
   ]
  },
  {
   "cell_type": "code",
   "execution_count": null,
   "metadata": {
    "id": "wlHuLn-D8yX0"
   },
   "outputs": [],
   "source": [
    "learner = ktrain.get_learner(model=bert,\n",
    "                             train_data=(X_train, y_train),\n",
    "                             val_data=(X_test, y_test))\n",
    "# learner.lr_find() # gasirea celui mai optim learning rate"
   ]
  },
  {
   "cell_type": "code",
   "execution_count": null,
   "metadata": {
    "id": "TBq2suHD-Vaw"
   },
   "outputs": [],
   "source": [
    "# 0.00003 - 3e-5"
   ]
  },
  {
   "cell_type": "code",
   "execution_count": null,
   "metadata": {
    "id": "OlaoMB8a-cXz"
   },
   "outputs": [],
   "source": [
    "learner.fit_onecycle(lr=0.1, epochs=2)"
   ]
  },
  {
   "cell_type": "code",
   "execution_count": null,
   "metadata": {
    "id": "fyf3pwoj_ccI"
   },
   "outputs": [],
   "source": [
    "# Classification Report pe setul de test\n",
    "learner.validate()"
   ]
  },
  {
   "cell_type": "markdown",
   "metadata": {
    "id": "TWmRgxjEEWZW"
   },
   "source": [
    "# Exemplu review care a fost clasificat gresit"
   ]
  },
  {
   "cell_type": "code",
   "execution_count": null,
   "metadata": {
    "id": "GprlWHccDfJJ"
   },
   "outputs": [],
   "source": [
    "learner.view_top_losses(n=1, preproc=preprocesor)"
   ]
  },
  {
   "cell_type": "code",
   "execution_count": null,
   "metadata": {
    "id": "BsoGQQI6Evdu"
   },
   "outputs": [],
   "source": [
    "data_test['text'].iloc[894]"
   ]
  },
  {
   "cell_type": "markdown",
   "metadata": {
    "id": "2bZ-Og7HHVbU"
   },
   "source": [
    "# Clasificarea altor recenzii"
   ]
  },
  {
   "cell_type": "code",
   "execution_count": null,
   "metadata": {
    "id": "DLZELm8LFJom"
   },
   "outputs": [],
   "source": [
    "pred = ktrain.get_predictor(learner.model,\n",
    "                            preproc=preprocesor)"
   ]
  },
  {
   "cell_type": "code",
   "execution_count": null,
   "metadata": {
    "id": "cNk7oMoNHdOZ"
   },
   "outputs": [],
   "source": [
    "data = ['The food was great',\n",
    "        'This was the best pizza in town',\n",
    "        \"Worst pizza I've ever eaten\",\n",
    "        'Horrible service in this restaurant',\n",
    "        \"The service at this restaurant was ok\"\n",
    "        ]"
   ]
  },
  {
   "cell_type": "code",
   "execution_count": null,
   "metadata": {
    "id": "wlsBtpe3Hy3u"
   },
   "outputs": [],
   "source": [
    "pred.predict(data)"
   ]
  }
 ],
 "metadata": {
  "accelerator": "GPU",
  "colab": {
   "provenance": []
  },
  "gpuClass": "standard",
  "kernelspec": {
   "display_name": "nlp_py310_xgb",
   "language": "python",
   "name": "nlp_py310_xgb"
  },
  "language_info": {
   "codemirror_mode": {
    "name": "ipython",
    "version": 3
   },
   "file_extension": ".py",
   "mimetype": "text/x-python",
   "name": "python",
   "nbconvert_exporter": "python",
   "pygments_lexer": "ipython3",
   "version": "3.10.13"
  }
 },
 "nbformat": 4,
 "nbformat_minor": 4
}
